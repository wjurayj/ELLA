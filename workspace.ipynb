{
 "cells": [
  {
   "cell_type": "code",
   "execution_count": 2,
   "id": "0313e1d3-bbb0-4853-924b-762d036f328a",
   "metadata": {},
   "outputs": [],
   "source": [
    "import pickle\n",
    "import os"
   ]
  },
  {
   "cell_type": "code",
   "execution_count": 28,
   "id": "204e8068-d69c-4029-a440-006feb9bdcff",
   "metadata": {},
   "outputs": [],
   "source": [
    "PATH = 'storage/demos'\n",
    "filename = 'BabyAI-GoToLocal-v0_agent_done_valid.pkl'\n",
    "# filename = 'BabyAI-GoToLocal-v0_agent_done.pkl'\n"
   ]
  },
  {
   "cell_type": "code",
   "execution_count": 29,
   "id": "5c6d3ef9-9c01-4684-a80b-6b9595b274d0",
   "metadata": {},
   "outputs": [],
   "source": [
    "with open(os.path.join(PATH, filename), 'rb') as file:\n",
    "    # Call load method to deserialze the object\n",
    "    data = pickle.load(file)\n",
    "\n",
    "# Use the loaded object\n",
    "# print(data)\n",
    "\n"
   ]
  },
  {
   "cell_type": "code",
   "execution_count": 31,
   "id": "f9b01cf7-f65b-4315-b5fe-d58d7308277e",
   "metadata": {},
   "outputs": [
    {
     "data": {
      "text/plain": [
       "1000"
      ]
     },
     "execution_count": 31,
     "metadata": {},
     "output_type": "execute_result"
    }
   ],
   "source": [
    "len(data)"
   ]
  },
  {
   "cell_type": "code",
   "execution_count": null,
   "id": "2b1bb0da-c49a-472c-ab4e-93079d4be7ef",
   "metadata": {},
   "outputs": [],
   "source": [
    "for step in data:\n",
    "    print(step[0])\n",
    "    print(step[1])\n",
    "    print(step[3])\n",
    "    print(step[4])\n",
    "    print('- - -')"
   ]
  },
  {
   "cell_type": "code",
   "execution_count": null,
   "id": "56819a23-c595-4e01-a541-e785f805022b",
   "metadata": {},
   "outputs": [],
   "source": [
    "data"
   ]
  },
  {
   "cell_type": "code",
   "execution_count": 13,
   "id": "80f08092-ec0c-4ef7-94d2-b2fc104287e9",
   "metadata": {},
   "outputs": [],
   "source": [
    "import babyai\n",
    "from gym_minigrid.wrappers import *\n",
    "env = gym.make('BabyAI-GoToRedBall-v0')\n",
    "env = RGBImgPartialObsWrapper(env)\n"
   ]
  }
 ],
 "metadata": {
  "kernelspec": {
   "display_name": "ella",
   "language": "python",
   "name": "ella"
  },
  "language_info": {
   "codemirror_mode": {
    "name": "ipython",
    "version": 3
   },
   "file_extension": ".py",
   "mimetype": "text/x-python",
   "name": "python",
   "nbconvert_exporter": "python",
   "pygments_lexer": "ipython3",
   "version": "3.6.10"
  }
 },
 "nbformat": 4,
 "nbformat_minor": 5
}
